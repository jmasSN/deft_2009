{
 "cells": [
  {
   "cell_type": "markdown",
   "id": "f5caafe9",
   "metadata": {},
   "source": [
    "### Extraction target du test"
   ]
  },
  {
   "cell_type": "code",
   "execution_count": 18,
   "id": "43311954",
   "metadata": {},
   "outputs": [],
   "source": [
    "#Pour l'anglais\n",
    "\n",
    "test_target_en=[]\n",
    "\n",
    "with open('deft09_parlement_ref_en.txt') as file:\n",
    "    for line in file:\n",
    "        enliste=line.strip('\\n').split('\\t')\n",
    "        test_target_en.append(enliste[1])\n",
    "        \n",
    "        "
   ]
  },
  {
   "cell_type": "code",
   "execution_count": 17,
   "id": "002323f1",
   "metadata": {},
   "outputs": [],
   "source": [
    "#Pour le français\n",
    "\n",
    "test_target_fr=[]\n",
    "\n",
    "with open('deft09_parlement_ref_fr.txt') as file:\n",
    "    for line in file:\n",
    "        enliste=line.strip('\\n').split('\\t')\n",
    "        test_target_fr.append(enliste[1])\n",
    "        \n",
    "\n",
    "        "
   ]
  },
  {
   "cell_type": "code",
   "execution_count": null,
   "id": "424505ec",
   "metadata": {},
   "outputs": [],
   "source": [
    "#Pour l'italien \n",
    "\n",
    "test_target_it=[]\n",
    "\n",
    "with open('deft09_parlement_ref_it.txt') as file:\n",
    "    for line in file:\n",
    "        enliste=line.strip('\\n').split('\\t')\n",
    "        test_target_it.append(enliste[1])\n",
    "        \n"
   ]
  },
  {
   "cell_type": "code",
   "execution_count": null,
   "id": "fa899ae7",
   "metadata": {},
   "outputs": [],
   "source": []
  }
 ],
 "metadata": {
  "kernelspec": {
   "display_name": "Python 3 (ipykernel)",
   "language": "python",
   "name": "python3"
  },
  "language_info": {
   "codemirror_mode": {
    "name": "ipython",
    "version": 3
   },
   "file_extension": ".py",
   "mimetype": "text/x-python",
   "name": "python",
   "nbconvert_exporter": "python",
   "pygments_lexer": "ipython3",
   "version": "3.10.9"
  }
 },
 "nbformat": 4,
 "nbformat_minor": 5
}
