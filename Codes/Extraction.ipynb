{
 "cells": [
  {
   "cell_type": "code",
   "execution_count": 6,
   "id": "2fd5a4b8",
   "metadata": {},
   "outputs": [],
   "source": [
    "import xml.etree.ElementTree as ET\n",
    "from pathlib import Path"
   ]
  },
  {
   "cell_type": "markdown",
   "id": "82ba18a0",
   "metadata": {},
   "source": [
    "### Extraction balises textes et parti politique "
   ]
  },
  {
   "cell_type": "code",
   "execution_count": 80,
   "id": "8c42bad6",
   "metadata": {},
   "outputs": [],
   "source": [
    "data_train_text_it=[]\n",
    "b=[]\n",
    "inter=[]\n",
    "data_train_target_it=[]\n",
    "\n",
    "\n",
    "tree= ET.parse('deft09_parlement_appr_it.xml')\n",
    "root= tree.getroot()\n",
    "doc= root.findall('doc')\n",
    "\n",
    "for doc in root.findall('doc') :\n",
    "    parti= doc.find(\".//PARTI\")\n",
    "    valeur= parti.get(\"valeur\")\n",
    "    data_train_target_it.append(valeur)\n",
    "    \n",
    "    text= doc.find('texte')\n",
    "    for p in text.findall('p'):\n",
    "        inter.append(p.text)\n",
    "    data_train_text_it.append(inter)\n",
    "    inter=[]\n",
    "\n",
    "#chaque balise texte est une liste \n",
    "#On a regrouper toutes les balises dans une liste "
   ]
  },
  {
   "cell_type": "markdown",
   "id": "3ac4977a",
   "metadata": {},
   "source": [
    "### Cellule qui servira à codifier le parti politique"
   ]
  },
  {
   "cell_type": "code",
   "execution_count": 104,
   "id": "fddbd4a5",
   "metadata": {},
   "outputs": [],
   "source": [
    "#À executer une fois toutes les listes concaténées ? \n",
    "\n",
    "dico={'GUE-NGL':0,'PSE':1 ,'PPE-DE':2,'ELDR':3,'Verts-ALE':4}\n",
    "data_target=[]\n",
    "\n",
    "for parti in data_train_target_it:\n",
    "    for cle,val in dico.items():\n",
    "        if parti==cle:\n",
    "            data_target.append(val)\n",
    "  "
   ]
  }
 ],
 "metadata": {
  "kernelspec": {
   "display_name": "Python 3 (ipykernel)",
   "language": "python",
   "name": "python3"
  },
  "language_info": {
   "codemirror_mode": {
    "name": "ipython",
    "version": 3
   },
   "file_extension": ".py",
   "mimetype": "text/x-python",
   "name": "python",
   "nbconvert_exporter": "python",
   "pygments_lexer": "ipython3",
   "version": "3.10.9"
  }
 },
 "nbformat": 4,
 "nbformat_minor": 5
}
