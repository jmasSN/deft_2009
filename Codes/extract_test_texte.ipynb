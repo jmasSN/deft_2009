{
 "cells": [
  {
   "cell_type": "code",
   "execution_count": 12,
   "id": "f737fec2",
   "metadata": {},
   "outputs": [],
   "source": [
    "########################CODE EXTRACTION SANS BALISE TEXTE ET P######################################################\"\"\n",
    "import xml.etree.ElementTree as ET \n",
    "\n",
    "import re \n",
    "\n",
    "test_texte_en = []\n",
    "\n",
    "\n",
    "tree= ET.parse('deft09_parlement_test_en.xml')\n",
    "root= tree.getroot()\n",
    "docs= root.findall('doc')\n",
    "\n",
    "for doc in docs:\n",
    "    texte = doc.find('texte')\n",
    "    if texte is not None:\n",
    "        textesanspar = re.sub(r'\\xa0|\\n|<texte>|</texte>|<p>|</p>', '', ET.tostring(texte, 'utf-8').decode('utf-8'))\n",
    "        textesanspar = re.sub(r'[^\\w\\s]', '', textesanspar)\n",
    "\n",
    "        test_texte_en.append(textesanspar)\n"
   ]
  },
  {
   "cell_type": "code",
   "execution_count": 13,
   "id": "04bcd97e",
   "metadata": {},
   "outputs": [
    {
     "data": {
      "text/plain": [
       "'   Mr President I would like to propose an oral amendment concerning paragraph 34 In fact I shall not propose any fundamental changes as it is just a matter of linking several amendments which take account of new considerations which apply following the tabling of the draft report namely the peace proposals by the SecretaryGeneral of the United Nations   I would propose keeping paragraph 34 as it appears in the draft text and adding Amendment No 42 to this text of paragraph 34 by simply inserting the words and welcomes it in this context As for the rest of Amendment No 42 it would remain as is the words in this context would be added in other words a simple link The second part of Amendment No 9 by the anonyme  could then be considered as an addition as well as the second part of Amendment No 12 by the anonyme  which would also be an addition These amendments are compatible    The President established that at least 32 Members objected to the oral amendment    '"
      ]
     },
     "execution_count": 13,
     "metadata": {},
     "output_type": "execute_result"
    }
   ],
   "source": [
    "test_texte_en[0]"
   ]
  },
  {
   "cell_type": "code",
   "execution_count": 14,
   "id": "80312b2f",
   "metadata": {},
   "outputs": [],
   "source": [
    "########################CODE EXTRACTION SANS BALISE TEXTE ET P######################################################\"\"\n",
    "import xml.etree.ElementTree as ET \n",
    "\n",
    "import re \n",
    "\n",
    "test_texte_fr = []\n",
    "\n",
    "\n",
    "tree= ET.parse('deft09_parlement_test_fr.xml')\n",
    "root= tree.getroot()\n",
    "docs= root.findall('doc')\n",
    "\n",
    "for doc in docs:\n",
    "    texte = doc.find('texte')\n",
    "    if texte is not None:\n",
    "        textesanspar = re.sub(r'\\xa0|\\n|<texte>|</texte>|<p>|</p>', '', ET.tostring(texte, 'utf-8').decode('utf-8'))\n",
    "        textesanspar = re.sub(r'[^\\w\\s]', '', textesanspar)\n",
    "\n",
    "        test_texte_fr.append(textesanspar)\n"
   ]
  },
  {
   "cell_type": "code",
   "execution_count": 15,
   "id": "b217da2a",
   "metadata": {},
   "outputs": [
    {
     "data": {
      "text/plain": [
       "'   Monsieur le Président laccès à des médias libres dans un débat ouvert et libre est lune des pierres angulaires dune société libre et démocratique Les dictateurs de par le monde lont toujours su Toutes les sociétés tous les États qui répriment leur propre presse ne recherchent quune seule chose  faire taire le débat et asphyxier la démocratie la communication ouverte et libre   Cela se manifeste tous les jours en Serbie Les quelques stations de télévision et de radios indépendantes serbes subissent des tracasseries et sont pourchassées pour finir par être totalement fermées M Milosevic menace le Monténégro il sen prend à la faible opposition serbe il sinfiltre au Kosovo M Milosevic et ses complices doivent sen aller la démocratie doit être sauvegardée   Je voudrais dès lors poser une question au commissaire Nielson Que faitil et que fait lUE pour faire en sorte que M Milosevic soit traduit en justice devant la Cour internationale de justice de La Haye Cest une honte pour lhumanité que les crimes de guerre de Milosevic naient pas été jugés devant un tribunal et quil puisse continuer à sen prendre à la paix à la liberté à la démocratie et à la liberté de la presse    '"
      ]
     },
     "execution_count": 15,
     "metadata": {},
     "output_type": "execute_result"
    }
   ],
   "source": [
    "test_texte_fr[0]"
   ]
  },
  {
   "cell_type": "code",
   "execution_count": 16,
   "id": "64715596",
   "metadata": {},
   "outputs": [],
   "source": [
    "########################CODE EXTRACTION SANS BALISE TEXTE ET P######################################################\"\"\n",
    "import xml.etree.ElementTree as ET \n",
    "\n",
    "import re \n",
    "\n",
    "test_texte_it = []\n",
    "\n",
    "\n",
    "tree= ET.parse('deft09_parlement_test_it.xml')\n",
    "root= tree.getroot()\n",
    "docs= root.findall('doc')\n",
    "\n",
    "for doc in docs:\n",
    "    texte = doc.find('texte')\n",
    "    if texte is not None:\n",
    "        textesanspar = re.sub(r'\\xa0|\\n|<texte>|</texte>|<p>|</p>', '', ET.tostring(texte, 'utf-8').decode('utf-8'))\n",
    "        textesanspar = re.sub(r'[^\\w\\s]', '', textesanspar)\n",
    "\n",
    "        test_texte_it.append(textesanspar)\n"
   ]
  },
  {
   "cell_type": "code",
   "execution_count": 17,
   "id": "e1ce12c8",
   "metadata": {},
   "outputs": [
    {
     "data": {
      "text/plain": [
       "'   Signor Presidente signor Rappresentante della Presidenza signor Commissario onorevoli colleghi con 22 capitoli conclusi provvisoriamente Malta ha perso un po di terreno nella statistica dei negoziati tuttavia questo non deve essere considerato lunico parametro di giudizio Così come per tutti gli altri paesi candidati non rimangono aperti solo capitoli specifici ma naturalmente anche le grandi tematiche dellagricoltura della politica regionale e del bilancio Tuttavia lo sviluppo economico ha assunto un andamento favorevole ed il deficit di bilancio è stato notevolmente ridotto   Per quanto riguarda ladeguamento al diritto comunitario e la relativa trasposizione bisogna fare riferimento ai notevoli progressi compiuti nei settori del diritto del lavoro della tutela della salute e della sicurezza sul posto di lavoro Nellambito del diritto della concorrenza sono necessari ulteriori sforzi per rafforzare le capacità amministrative Tuttavia su questo punto Malta non è la sola   E sicuramente positivo anche il quadro giuridico per lo sviluppo di investimenti e ristrutturazioni di piccole e medie imprese Si registrano ancora deficit nel settore dellambiente e nella preparazione alla politica regionale e agricola dellUnione In proposito la Commissione deve però cogliere la sfida di affrontare la particolare microstruttura dellagricoltura maltese delle consuetudini fiscali o delle specifiche condizioni del commercio dovute alla posizione insulare Inoltre dobbiamo sostenere la richiesta di Malta di nominare sei rappresentanti al Parlamento europeo   Spero che il processo di adesione di Malta recuperi terreno nei prossimi mesi e che nella presentazione della relazione della Commissione il 16 ottobre 2002 Malta risulti tra i candidati del primo gruppo che aderirà   Infine in qualità di rappresentante della commissione parlamentare mista con la Repubblica ceca vorrei esprimere la mia opinione riguardo alla scottante questione dei decreti Beneš Approvo la richiesta del Parlamento europeo di eliminare al più tardi al momento delladesione enunciazioni discriminatorie contrarie allacquis comunitario e spero che dopo le elezioni nella Repubblica ceca si possa risolvere la questione in maniera obiettiva   Per quanto riguarda lambito della sicurezza nucleare vorrei affermare esplicitamente che il Parlamento europeo deve insistere sulle date di chiusura di centrali nucleari pericolose e non adeguabili non solo quella di Ignalina ma anche quelle di Kozloduy e di Bohunice    '"
      ]
     },
     "execution_count": 17,
     "metadata": {},
     "output_type": "execute_result"
    }
   ],
   "source": [
    "test_texte_it[0]"
   ]
  }
 ],
 "metadata": {
  "kernelspec": {
   "display_name": "Python 3 (ipykernel)",
   "language": "python",
   "name": "python3"
  },
  "language_info": {
   "codemirror_mode": {
    "name": "ipython",
    "version": 3
   },
   "file_extension": ".py",
   "mimetype": "text/x-python",
   "name": "python",
   "nbconvert_exporter": "python",
   "pygments_lexer": "ipython3",
   "version": "3.10.12"
  }
 },
 "nbformat": 4,
 "nbformat_minor": 5
}
