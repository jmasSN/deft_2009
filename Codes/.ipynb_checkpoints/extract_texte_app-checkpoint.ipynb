{
 "cells": [
  {
   "cell_type": "code",
   "execution_count": 98,
   "id": "5abcaac9",
   "metadata": {},
   "outputs": [],
   "source": [
    "########################CODE EXTRACTION SANS BALISE TEXTE ET P######################################################\"\"\n",
    "import xml.etree.ElementTree as ET \n",
    "\n",
    "import re \n",
    "\n",
    "data_train_test_it = []\n",
    "data_train_target_it = []\n",
    "\n",
    "\n",
    "tree= ET.parse('deft09_parlement_appr_it.xml')\n",
    "root= tree.getroot()\n",
    "doc= root.findall('doc')\n",
    "\n",
    "for doc in root.findall('doc') :\n",
    "    parti= doc.find(\".//PARTI\")\n",
    "    val= parti.get(\"valeur\")\n",
    "    data_train_target_it.append(val)\n",
    "    #print(val)\n",
    "\n",
    "    texte = doc.find('texte')\n",
    "    if texte is not None:\n",
    "        textesanspar = re.sub(r'\\xa0|\\n|<texte>|</texte>|<p>|</p>', '', ET.tostring(texte, 'utf-8').decode('utf-8'))\n",
    "        textesanspar = re.sub(r'[^\\w\\s\\']|[0-9]', ' ', textesanspar)\n",
    "\n",
    "        data_train_test_it.append(textesanspar)\n",
    "        #li.append(textesanspar)\n",
    "        \n"
   ]
  },
  {
   "cell_type": "code",
   "execution_count": 99,
   "id": "40dbf239",
   "metadata": {},
   "outputs": [
    {
     "name": "stdout",
     "output_type": "stream",
     "text": [
      "   Signor Presidente intervengo per un breve commento La relazione sulle associazioni industriali di cui sono responsabile è stata inserita allordine del giorno di questa settimana senza che io ne sapessi nulla e soprattutto contrariamente a quanto era stato concordato tra Parlamento e autorità competenti Lho appreso nel corso di una telefonata che ho ricevuto da un giornalista del Times di Londra che intendeva rivolgermi alcune domande in proposito Quando ho chiesto come fosse potuto succedere lufficio competente del Parlamento ha affermato che era stato fatto con il consenso dei gruppi Quando mi sono rivolto ai gruppi mi è stato detto che erano stati i servizi del Parlamento Ciò non getta certo una luce positiva sul Parlamento Ora apprendo  naturalmente con gratitudine  che la relazione può essere presentata solo con il consenso del relatore alcuni gruppi sanno che sono ancora in corso importanti negoziati In pratica però sarebbe stato molto meglio che tutto ciò avvenisse in maniera un po più trasparente ed efficiente   \n",
      "PSE\n"
     ]
    }
   ],
   "source": [
    "print(data_train_test_it[19369])\n",
    "print(data_train_target_it[19369])"
   ]
  },
  {
   "cell_type": "code",
   "execution_count": 100,
   "id": "a33adacf",
   "metadata": {},
   "outputs": [],
   "source": [
    "########################CODE EXTRACTION SANS BALISE TEXTE ET P######################################################\"\"\n",
    "import xml.etree.ElementTree as ET \n",
    "\n",
    "import re \n",
    "\n",
    "data_train_test_en = []\n",
    "data_train_target_en = []\n",
    "\n",
    "\n",
    "tree= ET.parse('deft09_parlement_appr_en.xml')\n",
    "root= tree.getroot()\n",
    "doc= root.findall('doc')\n",
    "\n",
    "for doc in root.findall('doc') :\n",
    "    parti= doc.find(\".//PARTI\")\n",
    "    val= parti.get(\"valeur\")\n",
    "    data_train_target_en.append(val)\n",
    "    #print(val)\n",
    "\n",
    "    texte = doc.find('texte')\n",
    "    if texte is not None:\n",
    "        textesanspar = re.sub(r'\\xa0|\\n|<texte>|</texte>|<p>|</p>', '', ET.tostring(texte, 'utf-8').decode('utf-8'))\n",
    "        textesanspar = re.sub(r'[^\\w\\s\\']|[0-9]', ' ', textesanspar)\n",
    "\n",
    "        data_train_test_en.append(textesanspar)\n",
    "        #li.append(textesanspar)\n",
    "        \n"
   ]
  },
  {
   "cell_type": "code",
   "execution_count": 101,
   "id": "4bd7eaa5",
   "metadata": {},
   "outputs": [
    {
     "name": "stdout",
     "output_type": "stream",
     "text": [
      "   Madam President I should like to make it clear to my fellow MEPs that if Amendment No 9 tabled by the Group of the European Liberal Democrat and Reform Party is adopted the issue will be sent back to the Committee on Economic and Monetary Affairs That will be the correct method of proceeding for it will give us more time to investigate the legal consequences of this proposal I received an answer from the Council yesterday stating that it did not want to express an opinion on the proposals legal validity as long as the proposal was being debated in the Council I simply believe it would be wrong for us to proceed to a vote here in Parliament before such a legal evaluation has been made available to us I find the Councils answer totally unacceptable I would ask my fellow MEPs to support Amendment No 9 so that we can obtain a new reading in the committee   Applause    \n",
      "ELDR\n"
     ]
    }
   ],
   "source": [
    "print(data_train_test_en[19369])\n",
    "print(data_train_target_en[19369])"
   ]
  },
  {
   "cell_type": "code",
   "execution_count": 102,
   "id": "43fca7d7",
   "metadata": {},
   "outputs": [],
   "source": [
    "########################CODE EXTRACTION SANS BALISE TEXTE ET P######################################################\"\"\n",
    "import xml.etree.ElementTree as ET \n",
    "\n",
    "import re \n",
    "\n",
    "data_train_test_fr = []\n",
    "data_train_target_fr = []\n",
    "\n",
    "\n",
    "tree= ET.parse('deft09_parlement_appr_fr.xml')\n",
    "root= tree.getroot()\n",
    "doc= root.findall('doc')\n",
    "\n",
    "for doc in root.findall('doc') :\n",
    "    parti= doc.find(\".//PARTI\")\n",
    "    val= parti.get(\"valeur\")\n",
    "    data_train_target_fr.append(val)\n",
    "    #print(val)\n",
    "\n",
    "    texte = doc.find('texte')\n",
    "    if texte is not None:\n",
    "        textesanspar = re.sub(r'\\xa0|<texte>|</texte>|<p>|</p>', '', ET.tostring(texte, 'utf-8').decode('utf-8'))\n",
    "        textesanspar = re.sub(r'[^\\w\\s\\']|[0-9]', ' ', textesanspar)\n",
    "\n",
    "        data_train_test_fr.append(textesanspar)\n",
    "        #li.append(textesanspar)\n",
    "        \n"
   ]
  },
  {
   "cell_type": "code",
   "execution_count": 103,
   "id": "1ba98ce9",
   "metadata": {},
   "outputs": [
    {
     "name": "stdout",
     "output_type": "stream",
     "text": [
      "\n",
      "   Monsieur le Président le rapport de Mme Zorba est très intelligent et le groupe anonyme  soutiendra ce rapport ainsi que presque tous les amendements de la commission de lindustrie du commerce extérieur de la recherche et de lénergie Ceuxci sajoutent à limpressionnant projet de la Commission visant à développer valablement un Espace européen de la recherche Le seul amendement auquel nous nous opposerons est lamendement 6 qui exclut le financement européen de la recherche à des fins militaires Nous ne sommes pas demandeurs dune recherche destinée spécifiquement à des fins militaires mais la recherche est susceptible davoir des applications tant civiles que militaires par exemple la recherche sur de nouveaux matériaux Linclusion de cette clause dinterdiction pourrait entraîner des obstacles inutiles à des projets de recherche réellement bénéfiques\n",
      "   En ce qui concerne le budget nous préférons également lamendement 24 de la commission à lamendement 26 de Mme Zorba lequel spécifie un montant pour les bourses internationales Marie Curie Il vaut certainement mieux ne pas spécifier les 1630 milliards deuros destinés aux ressources humaines afin de conserver davantage de souplesse Nous navons en tout état de cause rien contre les bourses Marie Curie\n",
      "   Notre groupe a déposé lamendement de clarification 25 qui spécifie que la participation sera autorisée aux détenteurs dun doctorat lorsque ce doctorat a été obtenu en trois ans plutôt quen quatre Jimagine que Mme Zorba conviendra du fait quil sagit là dune clarification raisonnable\n",
      "   Je souhaiterais me concentrer sur le programme spécifique science et société lequel est essentiel pour le rétablissement du niveau nécessaire de confiance et de compréhension mutuelle entre la communauté scientifique et lensemble de la société civile Ceci est vital pour que leffort de recherche européen soit soutenu largement et durablement ce qui lui permettra de concrétiser la totalité de son potentiel Nous avons assisté au lamentable effondrement de cette relation peutêtre du fait de déclarations erronées de la part de scientifiques et dhommes politiques lors de crises passées Peutêtre estil encore davantage attribuable à un manque de volonté de la part des milieux scientifiques et industriels de communiquer clairement et systématiquement Nous espérons que ce programme promouvra une communication nettement améliorée et que le public sera beaucoup mieux informé sur les objectifs les résultats les applications les réalisations la reconnaissance des contraintes éthiques et environnementales et lutilité pratique des efforts scientifiques\n",
      "   Nous espérons pardessus tout que davantage de jeunes gens seront attirés par une carrière scientifique Nous en avons grandement besoin pour notre avenir à tous Nous présentons tous nos vœux de réussite à M Busquin et à son équipe ainsi quà ce programme \n",
      "  \n",
      " \n",
      "PPE-DE\n"
     ]
    }
   ],
   "source": [
    "print(data_train_test_fr[19369])\n",
    "print(data_train_target_fr[19369])"
   ]
  },
  {
   "cell_type": "code",
   "execution_count": 104,
   "id": "e89831f5",
   "metadata": {},
   "outputs": [
    {
     "name": "stderr",
     "output_type": "stream",
     "text": [
      "/usr/lib/python3/dist-packages/scipy/__init__.py:146: UserWarning: A NumPy version >=1.17.3 and <1.25.0 is required for this version of SciPy (detected version 1.26.1\n",
      "  warnings.warn(f\"A NumPy version >={np_minversion} and <{np_maxversion}\"\n"
     ]
    },
    {
     "name": "stdout",
     "output_type": "stream",
     "text": [
      "frozenset({'they', 'up', 'very', 'down', 'elsewhere', 'nothing', 'been', 'nevertheless', 'anyhow', 'next', 'seeming', 'my', 'everything', 'their', 'but', 'whereafter', 'the', 'still', 'wherever', 'thus', 'namely', 'be', 'somewhere', 'five', 'too', 'thereafter', 'interest', 'us', 'why', 'last', 'besides', 'third', 'fifteen', 'what', 'whatever', 'those', 'over', 'put', 'take', 'all', 'twenty', 'part', 'already', 'then', 'any', 'find', 'con', 'where', 'mill', 'whenever', 'could', 'them', 'yet', 'anything', 'between', 'him', 'during', 'than', 'so', 'who', 'above', 'yourselves', 'rather', 'sixty', 'eight', 'describe', 'do', 'ltd', 'neither', 'cant', 'am', 'off', 'name', 'a', 'no', 'become', 'beside', 'full', 'system', 'top', 'since', 'twelve', 'we', 'under', 'anyone', 'side', 'less', 'ours', 'from', 'becoming', 'your', 'he', 'also', 'an', 'this', 'several', 'enough', 'empty', 'without', 'being', 'cannot', 'etc', 'however', 'its', 'there', 'nobody', 'into', 'give', 'until', 'nowhere', 're', 'more', 'can', 'both', 'had', 'must', 'due', 'against', 'within', 'i', 'whom', 'first', 'upon', 'thru', 'latterly', 'seemed', 'that', 'fifty', 'please', 'she', 'of', 'alone', 'how', 'detail', 'four', 'per', 'else', 'nor', 'as', 'becomes', 'amoungst', 'much', 'onto', 'hundred', 'though', 'get', 'eg', 'may', 'whoever', 'was', 'might', 'former', 'either', 'along', 'hereby', 'un', 'beforehand', 'bottom', 'never', 'wherein', 'same', 'sometime', 'often', 'out', 'cry', 'together', 'move', 'whereupon', 'only', 'beyond', 'or', 'further', 'many', 'her', 'one', 'three', 'with', 'meanwhile', 'not', 'six', 'thin', 'would', 'something', 'two', 'fill', 'for', 'below', 'himself', 'itself', 'hers', 'such', 'someone', 'others', 'made', 'own', 'each', 'you', 'sometimes', 'which', 'will', 'myself', 'via', 'it', 'on', 'anyway', 'indeed', 'has', 'in', 'me', 'here', 'bill', 'thick', 'his', 'moreover', 'seem', 'eleven', 'most', 'otherwise', 'among', 'anywhere', 'inc', 'mostly', 'if', 'therein', 'amount', 'couldnt', 'serious', 'keep', 'latter', 'hereafter', 'towards', 'thereupon', 'whereas', 'have', 'found', 'some', 'these', 'while', 'about', 'although', 'nine', 'none', 'see', 'herein', 'were', 'and', 'everyone', 'across', 'afterwards', 'hereupon', 'well', 'ever', 'now', 'whole', 'yours', 'yourself', 'toward', 'go', 'hence', 'throughout', 'seems', 'forty', 'front', 'show', 'became', 'after', 'ie', 'once', 'everywhere', 'formerly', 'amongst', 'at', 'by', 'whereby', 'again', 'herself', 'call', 'other', 'whence', 'mine', 'because', 'somehow', 'behind', 'around', 'done', 'another', 'our', 'themselves', 'sincere', 'whether', 'is', 'when', 'back', 'should', 'thereby', 'few', 'before', 'therefore', 'hasnt', 'almost', 'de', 'thence', 'noone', 'even', 'ten', 'whither', 'to', 'least', 'whose', 'perhaps', 'co', 'every', 'ourselves', 'through', 'except', 'are', 'fire', 'always'})\n"
     ]
    }
   ],
   "source": [
    "from sklearn.feature_extraction.text import ENGLISH_STOP_WORDS\n",
    "\n",
    "print(ENGLISH_STOP_WORDS)\n"
   ]
  },
  {
   "cell_type": "code",
   "execution_count": null,
   "id": "7fc5b84f",
   "metadata": {},
   "outputs": [],
   "source": []
  }
 ],
 "metadata": {
  "kernelspec": {
   "display_name": "Python 3 (ipykernel)",
   "language": "python",
   "name": "python3"
  },
  "language_info": {
   "codemirror_mode": {
    "name": "ipython",
    "version": 3
   },
   "file_extension": ".py",
   "mimetype": "text/x-python",
   "name": "python",
   "nbconvert_exporter": "python",
   "pygments_lexer": "ipython3",
   "version": "3.10.12"
  }
 },
 "nbformat": 4,
 "nbformat_minor": 5
}
