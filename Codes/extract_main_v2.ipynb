{
 "cells": [
  {
   "cell_type": "code",
   "execution_count": 126,
   "id": "90ce20ad",
   "metadata": {},
   "outputs": [],
   "source": [
    "import xml.etree.ElementTree as ET \n",
    "import re\n",
    "import seaborn as sns "
   ]
  },
  {
   "cell_type": "code",
   "execution_count": 127,
   "id": "68f7f114",
   "metadata": {},
   "outputs": [],
   "source": [
    "path = input('Chemin :\\n')\n",
    "if path.lower() == 'i':\n",
    "    path = '/Users/admin1/Documents/deft_2009 2/data/'\n",
    "else:\n",
    "    path = ''"
   ]
  },
  {
   "cell_type": "markdown",
   "id": "2b4f0352",
   "metadata": {},
   "source": [
    "# Récupération des données de train"
   ]
  },
  {
   "cell_type": "code",
   "execution_count": 128,
   "id": "599f8587",
   "metadata": {},
   "outputs": [],
   "source": [
    "def extract_train(path):\n",
    "    '''Fonction qui permet l'extraction du texte et du parti pour le corpus de train'''\n",
    "    list_target =[] \n",
    "    list_text =[]\n",
    "    tree= ET.parse(path)\n",
    "    root= tree.getroot()\n",
    "    doc= root.findall('doc')\n",
    "    for doc in root.findall('doc') :\n",
    "        parti= doc.find(\".//PARTI\")\n",
    "        val= parti.get(\"valeur\")\n",
    "        list_target.append(val)\n",
    "\n",
    "        texte = doc.find('texte')\n",
    "        if texte is not None:\n",
    "            textesanspar = re.sub(r'\\xa0|\\n|<texte>|</texte>|<p>|</p>', '', ET.tostring(texte, 'utf-8').decode('utf-8'))\n",
    "            textesanspar = re.sub(r'[^\\w\\s\\']|[0-9]', ' ', textesanspar)\n",
    "            list_text.append(textesanspar) \n",
    "    return list_text, list_target"
   ]
  },
  {
   "cell_type": "markdown",
   "id": "db55d044",
   "metadata": {},
   "source": [
    "## Extraction des données du train"
   ]
  },
  {
   "cell_type": "code",
   "execution_count": 129,
   "id": "38d63adc",
   "metadata": {},
   "outputs": [],
   "source": [
    "train_text_en, train_target_en = extract_train(f'{path}train/deft09_parlement_appr_en.xml')\n",
    "train_text_fr, train_target_fr = extract_train(f'{path}train/deft09_parlement_appr_fr.xml')\n",
    "train_text_it, train_target_it = extract_train(f'{path}train/deft09_parlement_appr_it.xml')"
   ]
  },
  {
   "cell_type": "code",
   "execution_count": 130,
   "id": "8dc0a1b6",
   "metadata": {
    "scrolled": true
   },
   "outputs": [
    {
     "name": "stdout",
     "output_type": "stream",
     "text": [
      "19370\n"
     ]
    }
   ],
   "source": [
    "print(len(train_target_en))"
   ]
  },
  {
   "cell_type": "code",
   "execution_count": 131,
   "id": "442725dd",
   "metadata": {},
   "outputs": [
    {
     "name": "stdout",
     "output_type": "stream",
     "text": [
      "PPE-DE\n",
      "   Monsieur le Président  Monsieur le Commissaire  chers collègues  nous sommes nombreux à avoir réclamé à plusieurs reprises la création d un Fonds européen pour les réfugiés  Il a fallu attendre les exemples éloquents du Kosovo   et dans une moindre mesure du Timor   pour que l évidence du besoin de ce fonds soit renforcée  L entrée en vigueur du traité d Amsterdam a permis d aborder sous un autre angle la politique européenne en matière d asile et d immigration  qui  comme l a déjà souligné notre collègue Oostlander  suppose une solidarité entre les États membres  et c est la raison pour laquelle il faut créer des mécanismes destinés à contribuer à atteindre un équilibre entre les efforts développés par les États membres qui accueillent ces réfugiés et ceux qui peuvent supporter  à court et à long terme  les conséquences découlant de cet accueil    Il nous semble justifié que ce Fonds contienne une composante d urgence à appliquer dans les cas de flux massif de personnes qui se trouvent dans une situation de besoin de protection internationale  mais qui garantisse dans le même temps le financement de mesures de politique structurelle  c est à dire qui permette  dans un cadre de programmation pluriannuelle  d apporter un appui efficace à des mesures destinées en premier lieu à améliorer les conditions d accueil  en deuxième lieu à promouvoir l intégration  en troisième lieu à faciliter le rapatriement volontaire et enfin à faciliter la réintégration    L expérience du Kosovo a démontré qu une grande partie des personnes déplacées  même celles qui ont obtenu le statut de réfugié  étaient disposées à rentrer dans leur pays d origine si les conditions nécessaires étaient réunies  J aimerais dès lors mettre en évidence ce que notre collègue Pirker a déjà dit concernant la différence entre les immigrés et les réfugiés temporaires  Alors que dans le premier cas  il faut développer des politiques de soutien à l intégration  dans le second cas  il convient de mettre en place  et ce dans l intérêt des réfugiés  des politiques de soutien de retour au pays ou à la région que ces personnes ont dû fuir  Ces deux situations sont différentes et les réponses qu il faut y apporter le sont également  Les confondre revient à céder à la démagogie  J aimerais encore souligner le besoin d accélérer la création d instruments légaux qui permettent la mise à disposition des fonds qui se trouvent déjà réservés à cet objectif dans le budget       Il serait également nécessaire de définir des règles spécifiques sur les critères et les dispositions à appliquer concernant l attribution de ces fonds et le fonctionnement des mécanismes de contrôle respectifs     \n"
     ]
    }
   ],
   "source": [
    "print(train_target_fr[19366])\n",
    "print(train_text_fr[19366])"
   ]
  },
  {
   "cell_type": "markdown",
   "id": "708d027d",
   "metadata": {},
   "source": [
    "# Récupération des données de test"
   ]
  },
  {
   "cell_type": "markdown",
   "id": "d5c674d1",
   "metadata": {},
   "source": [
    "## Extraction du texte"
   ]
  },
  {
   "cell_type": "code",
   "execution_count": 132,
   "id": "016e32a0",
   "metadata": {},
   "outputs": [],
   "source": [
    "def extract_text_test(path):\n",
    "    '''Fonction qui permet l'extraction du texte pour le corpus de test'''\n",
    "    liste_text=[]\n",
    "    tree= ET.parse(path)\n",
    "    root= tree.getroot()\n",
    "    docs= root.findall('doc')\n",
    "    for doc in docs:\n",
    "        texte = doc.find('texte')\n",
    "        if texte is not None:\n",
    "            textesanspar = re.sub(r'\\xa0|\\n|<texte>|</texte>|<p>|</p>', '', ET.tostring(texte, 'utf-8').decode('utf-8'))\n",
    "            textesanspar = re.sub(r'[^\\w\\s\\']|[0-9]', ' ', textesanspar)\n",
    "            liste_text.append(textesanspar)\n",
    "    return liste_text"
   ]
  },
  {
   "cell_type": "code",
   "execution_count": 133,
   "id": "42c62a36",
   "metadata": {},
   "outputs": [],
   "source": [
    "test_text_en = extract_text_test(f'{path}test/deft09_parlement_test_en.xml')\n",
    "test_text_fr = extract_text_test(f'{path}test/deft09_parlement_test_fr.xml')\n",
    "test_text_it = extract_text_test(f'{path}test/deft09_parlement_test_it.xml')"
   ]
  },
  {
   "cell_type": "code",
   "execution_count": 134,
   "id": "15bcc43e",
   "metadata": {},
   "outputs": [
    {
     "data": {
      "text/plain": [
       "'    p      '"
      ]
     },
     "execution_count": 134,
     "metadata": {},
     "output_type": "execute_result"
    }
   ],
   "source": [
    "test_text_en[2601]"
   ]
  },
  {
   "cell_type": "code",
   "execution_count": 135,
   "id": "d6f07cbe",
   "metadata": {},
   "outputs": [
    {
     "name": "stdout",
     "output_type": "stream",
     "text": [
      "12917\n"
     ]
    }
   ],
   "source": [
    "print(len(test_text_it))"
   ]
  },
  {
   "cell_type": "markdown",
   "id": "584a5fbd",
   "metadata": {},
   "source": [
    "## Extraction du parti"
   ]
  },
  {
   "cell_type": "code",
   "execution_count": 136,
   "id": "ef06fff1",
   "metadata": {},
   "outputs": [],
   "source": [
    "def extract_train_test(path):\n",
    "    '''Fonction qui permet l'extraction du parti pour le test'''\n",
    "    liste_target = []\n",
    "    with open(path) as file:\n",
    "        for line in file:\n",
    "            enliste=line.strip('\\n').split('\\t')\n",
    "            liste_target.append(enliste[1])\n",
    "    return liste_target"
   ]
  },
  {
   "cell_type": "code",
   "execution_count": 137,
   "id": "790ed9b1",
   "metadata": {},
   "outputs": [],
   "source": [
    "test_target_en = extract_train_test(f'{path}ref/deft09_parlement_ref_en.txt')\n",
    "test_target_fr = extract_train_test(f'{path}ref/deft09_parlement_ref_fr.txt')\n",
    "test_target_it = extract_train_test(f'{path}ref/deft09_parlement_ref_it.txt')"
   ]
  },
  {
   "cell_type": "code",
   "execution_count": 138,
   "id": "9710a645",
   "metadata": {},
   "outputs": [
    {
     "data": {
      "text/plain": [
       "''"
      ]
     },
     "execution_count": 138,
     "metadata": {},
     "output_type": "execute_result"
    }
   ],
   "source": [
    "test_target_en[2601]"
   ]
  },
  {
   "cell_type": "markdown",
   "id": "3ec82619",
   "metadata": {},
   "source": [
    "# Vectorisation"
   ]
  },
  {
   "cell_type": "code",
   "execution_count": 139,
   "id": "c29b9258",
   "metadata": {},
   "outputs": [],
   "source": [
    "from sklearn.feature_extraction.text import TfidfVectorizer\n",
    "import spacy\n",
    "import numpy as np\n",
    "import pandas as pd"
   ]
  },
  {
   "cell_type": "markdown",
   "id": "14ef7355",
   "metadata": {},
   "source": [
    "## Récupération des listes de stops words de Spacy\n"
   ]
  },
  {
   "cell_type": "code",
   "execution_count": 140,
   "id": "6021bc36",
   "metadata": {},
   "outputs": [],
   "source": [
    "en = spacy.load(\"en_core_web_sm\")\n",
    "fr = spacy.load(\"fr_core_news_sm\")\n",
    "it = spacy.load(\"it_core_news_sm\")\n",
    "stopwordsen = list(en.Defaults.stop_words)\n",
    "stopwordsfr = list(fr.Defaults.stop_words)\n",
    "stopwordsit = list(it.Defaults.stop_words)"
   ]
  },
  {
   "cell_type": "markdown",
   "id": "0791283e",
   "metadata": {},
   "source": [
    "## Vectorisation du train et test en 1fois "
   ]
  },
  {
   "cell_type": "code",
   "execution_count": 141,
   "id": "9455a119",
   "metadata": {},
   "outputs": [],
   "source": [
    "stopwords=[*stopwordsen,*stopwordsfr,*stopwordsit]\n",
    "train_text=[*train_text_en,*train_text_fr,*train_text_it]\n",
    "test_text=[*test_text_en,*test_text_fr,*test_text_it]"
   ]
  },
  {
   "cell_type": "code",
   "execution_count": 142,
   "id": "29bb8155",
   "metadata": {},
   "outputs": [
    {
     "name": "stdout",
     "output_type": "stream",
     "text": [
      "58110\n",
      "   Signor Presidente  intervengo per un breve commento  La relazione sulle associazioni industriali di cui sono responsabile è stata inserita all ordine del giorno di questa settimana senza che io ne sapessi nulla e soprattutto contrariamente a quanto era stato concordato tra Parlamento e autorità competenti  L ho appreso nel corso di una telefonata che ho ricevuto da un giornalista del Times di Londra  che intendeva rivolgermi alcune domande in proposito  Quando ho chiesto come fosse potuto succedere  l ufficio competente del Parlamento ha affermato che era stato fatto con il consenso dei gruppi  Quando mi sono rivolto ai gruppi  mi è stato detto che erano stati i servizi del Parlamento  Ciò non getta certo una luce positiva sul Parlamento  Ora apprendo   naturalmente con gratitudine   che la relazione può essere presentata solo con il consenso del relatore  alcuni gruppi sanno che sono ancora in corso importanti negoziati  In pratica  però  sarebbe stato molto meglio che tutto ciò avvenisse in maniera un po  più trasparente ed efficiente    \n"
     ]
    }
   ],
   "source": [
    "print(len(train_text))\n",
    "print(train_text[58109])"
   ]
  },
  {
   "cell_type": "code",
   "execution_count": 143,
   "id": "8d7cc0d2",
   "metadata": {},
   "outputs": [],
   "source": [
    "#concaténation du test et train \n",
    "full_data=[*train_text,*test_text]"
   ]
  },
  {
   "cell_type": "code",
   "execution_count": 144,
   "id": "f9484dd2",
   "metadata": {},
   "outputs": [],
   "source": [
    "def vectorization(data,stopWords,max_word,min_word):\n",
    "    vectorizer = TfidfVectorizer(stop_words = stopWords, max_df=max_word, min_df=min_word)\n",
    "    X = vectorizer.fit_transform(data)\n",
    "    # Chaque mots qui apparaissent en MIN\n",
    "    features = vectorizer.get_feature_names_out()\n",
    "    return X, features "
   ]
  },
  {
   "cell_type": "code",
   "execution_count": 145,
   "id": "512a3101",
   "metadata": {},
   "outputs": [
    {
     "name": "stderr",
     "output_type": "stream",
     "text": [
      "/Library/Frameworks/Python.framework/Versions/3.11/lib/python3.11/site-packages/sklearn/feature_extraction/text.py:408: UserWarning: Your stop_words may be inconsistent with your preprocessing. Tokenizing the stop words generated tokens ['gl', 'll', 'neuf', 'nient', 'qu', 'quelqu', 've'] not in stop_words.\n",
      "  warnings.warn(\n"
     ]
    }
   ],
   "source": [
    "# Vectorisation sur tout \n",
    "#X_train, features_train = vectorization(train_text,stopwords,0.9,0.001)\n",
    "#X_test, festures_test =vectorization(test_text,stopwords,0.9,0.001)\n",
    "\n",
    "data, features = vectorization(full_data,stopwords,0.9,0.001)"
   ]
  },
  {
   "cell_type": "code",
   "execution_count": 146,
   "id": "f78e8ff8",
   "metadata": {},
   "outputs": [
    {
     "name": "stdout",
     "output_type": "stream",
     "text": [
      "(96861, 15649)\n"
     ]
    }
   ],
   "source": [
    "#Transformation en array, inclure panda dataframe ? \n",
    "data = data.toarray()\n",
    "print(data.shape)"
   ]
  },
  {
   "cell_type": "code",
   "execution_count": 147,
   "id": "d69a2d92",
   "metadata": {},
   "outputs": [],
   "source": [
    "# Split en train et test\n",
    "X_train= data[:58110]\n",
    "X_test= data[58110:]"
   ]
  },
  {
   "cell_type": "markdown",
   "id": "7f7c8e43",
   "metadata": {},
   "source": [
    "# Preparation des targets"
   ]
  },
  {
   "cell_type": "code",
   "execution_count": 148,
   "id": "49ac5d23",
   "metadata": {},
   "outputs": [
    {
     "name": "stdout",
     "output_type": "stream",
     "text": [
      "2601\n",
      "12171\n"
     ]
    }
   ],
   "source": [
    "#Explication indices différents et textes vides \n",
    "\n",
    "target_labels = [\"GUE-NGL\", \"PSE\", \"PPE-DE\", \"ELDR\", \"Verts-ALE\"]\n",
    "\n",
    "for indice, element in enumerate(test_target_en):\n",
    "    if element not in target_labels:\n",
    "        print(indice)\n",
    "        "
   ]
  },
  {
   "cell_type": "code",
   "execution_count": 149,
   "id": "2c6415bc",
   "metadata": {},
   "outputs": [],
   "source": [
    "def dico(target_text):\n",
    "    target=[]\n",
    "    dico={'GUE-NGL':0,'PSE':1 ,'PPE-DE':2,'ELDR':3,'Verts-ALE':4, '':5}\n",
    "    for parti in target_text:\n",
    "        for cle,val in dico.items():\n",
    "            if cle == parti:\n",
    "                target.append(val)\n",
    "    return np.array(target)\n"
   ]
  },
  {
   "cell_type": "code",
   "execution_count": 150,
   "id": "ae5218cc",
   "metadata": {},
   "outputs": [],
   "source": [
    "y_train=dico([*train_target_en,*train_target_fr,*train_target_it])\n",
    "y_test= dico([*test_target_en,*test_target_fr,*test_target_it])"
   ]
  },
  {
   "cell_type": "markdown",
   "id": "95598873",
   "metadata": {},
   "source": [
    "# Visualisation des données "
   ]
  },
  {
   "cell_type": "code",
   "execution_count": 151,
   "id": "940c2528",
   "metadata": {},
   "outputs": [
    {
     "data": {
      "text/html": [
       "<div>\n",
       "<style scoped>\n",
       "    .dataframe tbody tr th:only-of-type {\n",
       "        vertical-align: middle;\n",
       "    }\n",
       "\n",
       "    .dataframe tbody tr th {\n",
       "        vertical-align: top;\n",
       "    }\n",
       "\n",
       "    .dataframe thead th {\n",
       "        text-align: right;\n",
       "    }\n",
       "</style>\n",
       "<table border=\"1\" class=\"dataframe\">\n",
       "  <thead>\n",
       "    <tr style=\"text-align: right;\">\n",
       "      <th></th>\n",
       "      <th>abandon</th>\n",
       "      <th>abandoned</th>\n",
       "      <th>abandonner</th>\n",
       "      <th>abattage</th>\n",
       "      <th>abbandonare</th>\n",
       "      <th>abbandonato</th>\n",
       "      <th>abbandono</th>\n",
       "      <th>abbattimento</th>\n",
       "      <th>abbreviated</th>\n",
       "      <th>abbreviato</th>\n",
       "      <th>...</th>\n",
       "      <th>événement</th>\n",
       "      <th>événements</th>\n",
       "      <th>êtes</th>\n",
       "      <th>êtres</th>\n",
       "      <th>île</th>\n",
       "      <th>îles</th>\n",
       "      <th>œil</th>\n",
       "      <th>œuvre</th>\n",
       "      <th>œuvrer</th>\n",
       "      <th>εu</th>\n",
       "    </tr>\n",
       "  </thead>\n",
       "  <tbody>\n",
       "    <tr>\n",
       "      <th>0</th>\n",
       "      <td>0.0</td>\n",
       "      <td>0.0</td>\n",
       "      <td>0.0</td>\n",
       "      <td>0.0</td>\n",
       "      <td>0.0</td>\n",
       "      <td>0.0</td>\n",
       "      <td>0.0</td>\n",
       "      <td>0.0</td>\n",
       "      <td>0.0</td>\n",
       "      <td>0.0</td>\n",
       "      <td>...</td>\n",
       "      <td>0.0</td>\n",
       "      <td>0.0</td>\n",
       "      <td>0.0</td>\n",
       "      <td>0.0</td>\n",
       "      <td>0.0</td>\n",
       "      <td>0.0</td>\n",
       "      <td>0.0</td>\n",
       "      <td>0.0</td>\n",
       "      <td>0.0</td>\n",
       "      <td>0.0</td>\n",
       "    </tr>\n",
       "    <tr>\n",
       "      <th>2</th>\n",
       "      <td>0.0</td>\n",
       "      <td>0.0</td>\n",
       "      <td>0.0</td>\n",
       "      <td>0.0</td>\n",
       "      <td>0.0</td>\n",
       "      <td>0.0</td>\n",
       "      <td>0.0</td>\n",
       "      <td>0.0</td>\n",
       "      <td>0.0</td>\n",
       "      <td>0.0</td>\n",
       "      <td>...</td>\n",
       "      <td>0.0</td>\n",
       "      <td>0.0</td>\n",
       "      <td>0.0</td>\n",
       "      <td>0.0</td>\n",
       "      <td>0.0</td>\n",
       "      <td>0.0</td>\n",
       "      <td>0.0</td>\n",
       "      <td>0.0</td>\n",
       "      <td>0.0</td>\n",
       "      <td>0.0</td>\n",
       "    </tr>\n",
       "    <tr>\n",
       "      <th>2</th>\n",
       "      <td>0.0</td>\n",
       "      <td>0.0</td>\n",
       "      <td>0.0</td>\n",
       "      <td>0.0</td>\n",
       "      <td>0.0</td>\n",
       "      <td>0.0</td>\n",
       "      <td>0.0</td>\n",
       "      <td>0.0</td>\n",
       "      <td>0.0</td>\n",
       "      <td>0.0</td>\n",
       "      <td>...</td>\n",
       "      <td>0.0</td>\n",
       "      <td>0.0</td>\n",
       "      <td>0.0</td>\n",
       "      <td>0.0</td>\n",
       "      <td>0.0</td>\n",
       "      <td>0.0</td>\n",
       "      <td>0.0</td>\n",
       "      <td>0.0</td>\n",
       "      <td>0.0</td>\n",
       "      <td>0.0</td>\n",
       "    </tr>\n",
       "    <tr>\n",
       "      <th>2</th>\n",
       "      <td>0.0</td>\n",
       "      <td>0.0</td>\n",
       "      <td>0.0</td>\n",
       "      <td>0.0</td>\n",
       "      <td>0.0</td>\n",
       "      <td>0.0</td>\n",
       "      <td>0.0</td>\n",
       "      <td>0.0</td>\n",
       "      <td>0.0</td>\n",
       "      <td>0.0</td>\n",
       "      <td>...</td>\n",
       "      <td>0.0</td>\n",
       "      <td>0.0</td>\n",
       "      <td>0.0</td>\n",
       "      <td>0.0</td>\n",
       "      <td>0.0</td>\n",
       "      <td>0.0</td>\n",
       "      <td>0.0</td>\n",
       "      <td>0.0</td>\n",
       "      <td>0.0</td>\n",
       "      <td>0.0</td>\n",
       "    </tr>\n",
       "    <tr>\n",
       "      <th>1</th>\n",
       "      <td>0.0</td>\n",
       "      <td>0.0</td>\n",
       "      <td>0.0</td>\n",
       "      <td>0.0</td>\n",
       "      <td>0.0</td>\n",
       "      <td>0.0</td>\n",
       "      <td>0.0</td>\n",
       "      <td>0.0</td>\n",
       "      <td>0.0</td>\n",
       "      <td>0.0</td>\n",
       "      <td>...</td>\n",
       "      <td>0.0</td>\n",
       "      <td>0.0</td>\n",
       "      <td>0.0</td>\n",
       "      <td>0.0</td>\n",
       "      <td>0.0</td>\n",
       "      <td>0.0</td>\n",
       "      <td>0.0</td>\n",
       "      <td>0.0</td>\n",
       "      <td>0.0</td>\n",
       "      <td>0.0</td>\n",
       "    </tr>\n",
       "    <tr>\n",
       "      <th>...</th>\n",
       "      <td>...</td>\n",
       "      <td>...</td>\n",
       "      <td>...</td>\n",
       "      <td>...</td>\n",
       "      <td>...</td>\n",
       "      <td>...</td>\n",
       "      <td>...</td>\n",
       "      <td>...</td>\n",
       "      <td>...</td>\n",
       "      <td>...</td>\n",
       "      <td>...</td>\n",
       "      <td>...</td>\n",
       "      <td>...</td>\n",
       "      <td>...</td>\n",
       "      <td>...</td>\n",
       "      <td>...</td>\n",
       "      <td>...</td>\n",
       "      <td>...</td>\n",
       "      <td>...</td>\n",
       "      <td>...</td>\n",
       "      <td>...</td>\n",
       "    </tr>\n",
       "    <tr>\n",
       "      <th>2</th>\n",
       "      <td>0.0</td>\n",
       "      <td>0.0</td>\n",
       "      <td>0.0</td>\n",
       "      <td>0.0</td>\n",
       "      <td>0.0</td>\n",
       "      <td>0.0</td>\n",
       "      <td>0.0</td>\n",
       "      <td>0.0</td>\n",
       "      <td>0.0</td>\n",
       "      <td>0.0</td>\n",
       "      <td>...</td>\n",
       "      <td>0.0</td>\n",
       "      <td>0.0</td>\n",
       "      <td>0.0</td>\n",
       "      <td>0.0</td>\n",
       "      <td>0.0</td>\n",
       "      <td>0.0</td>\n",
       "      <td>0.0</td>\n",
       "      <td>0.0</td>\n",
       "      <td>0.0</td>\n",
       "      <td>0.0</td>\n",
       "    </tr>\n",
       "    <tr>\n",
       "      <th>0</th>\n",
       "      <td>0.0</td>\n",
       "      <td>0.0</td>\n",
       "      <td>0.0</td>\n",
       "      <td>0.0</td>\n",
       "      <td>0.0</td>\n",
       "      <td>0.0</td>\n",
       "      <td>0.0</td>\n",
       "      <td>0.0</td>\n",
       "      <td>0.0</td>\n",
       "      <td>0.0</td>\n",
       "      <td>...</td>\n",
       "      <td>0.0</td>\n",
       "      <td>0.0</td>\n",
       "      <td>0.0</td>\n",
       "      <td>0.0</td>\n",
       "      <td>0.0</td>\n",
       "      <td>0.0</td>\n",
       "      <td>0.0</td>\n",
       "      <td>0.0</td>\n",
       "      <td>0.0</td>\n",
       "      <td>0.0</td>\n",
       "    </tr>\n",
       "    <tr>\n",
       "      <th>2</th>\n",
       "      <td>0.0</td>\n",
       "      <td>0.0</td>\n",
       "      <td>0.0</td>\n",
       "      <td>0.0</td>\n",
       "      <td>0.0</td>\n",
       "      <td>0.0</td>\n",
       "      <td>0.0</td>\n",
       "      <td>0.0</td>\n",
       "      <td>0.0</td>\n",
       "      <td>0.0</td>\n",
       "      <td>...</td>\n",
       "      <td>0.0</td>\n",
       "      <td>0.0</td>\n",
       "      <td>0.0</td>\n",
       "      <td>0.0</td>\n",
       "      <td>0.0</td>\n",
       "      <td>0.0</td>\n",
       "      <td>0.0</td>\n",
       "      <td>0.0</td>\n",
       "      <td>0.0</td>\n",
       "      <td>0.0</td>\n",
       "    </tr>\n",
       "    <tr>\n",
       "      <th>2</th>\n",
       "      <td>0.0</td>\n",
       "      <td>0.0</td>\n",
       "      <td>0.0</td>\n",
       "      <td>0.0</td>\n",
       "      <td>0.0</td>\n",
       "      <td>0.0</td>\n",
       "      <td>0.0</td>\n",
       "      <td>0.0</td>\n",
       "      <td>0.0</td>\n",
       "      <td>0.0</td>\n",
       "      <td>...</td>\n",
       "      <td>0.0</td>\n",
       "      <td>0.0</td>\n",
       "      <td>0.0</td>\n",
       "      <td>0.0</td>\n",
       "      <td>0.0</td>\n",
       "      <td>0.0</td>\n",
       "      <td>0.0</td>\n",
       "      <td>0.0</td>\n",
       "      <td>0.0</td>\n",
       "      <td>0.0</td>\n",
       "    </tr>\n",
       "    <tr>\n",
       "      <th>1</th>\n",
       "      <td>0.0</td>\n",
       "      <td>0.0</td>\n",
       "      <td>0.0</td>\n",
       "      <td>0.0</td>\n",
       "      <td>0.0</td>\n",
       "      <td>0.0</td>\n",
       "      <td>0.0</td>\n",
       "      <td>0.0</td>\n",
       "      <td>0.0</td>\n",
       "      <td>0.0</td>\n",
       "      <td>...</td>\n",
       "      <td>0.0</td>\n",
       "      <td>0.0</td>\n",
       "      <td>0.0</td>\n",
       "      <td>0.0</td>\n",
       "      <td>0.0</td>\n",
       "      <td>0.0</td>\n",
       "      <td>0.0</td>\n",
       "      <td>0.0</td>\n",
       "      <td>0.0</td>\n",
       "      <td>0.0</td>\n",
       "    </tr>\n",
       "  </tbody>\n",
       "</table>\n",
       "<p>58110 rows × 15649 columns</p>\n",
       "</div>"
      ],
      "text/plain": [
       "    abandon  abandoned  abandonner  abattage  abbandonare  abbandonato   \n",
       "0       0.0        0.0         0.0       0.0          0.0          0.0  \\\n",
       "2       0.0        0.0         0.0       0.0          0.0          0.0   \n",
       "2       0.0        0.0         0.0       0.0          0.0          0.0   \n",
       "2       0.0        0.0         0.0       0.0          0.0          0.0   \n",
       "1       0.0        0.0         0.0       0.0          0.0          0.0   \n",
       "..      ...        ...         ...       ...          ...          ...   \n",
       "2       0.0        0.0         0.0       0.0          0.0          0.0   \n",
       "0       0.0        0.0         0.0       0.0          0.0          0.0   \n",
       "2       0.0        0.0         0.0       0.0          0.0          0.0   \n",
       "2       0.0        0.0         0.0       0.0          0.0          0.0   \n",
       "1       0.0        0.0         0.0       0.0          0.0          0.0   \n",
       "\n",
       "    abbandono  abbattimento  abbreviated  abbreviato  ...  événement   \n",
       "0         0.0           0.0          0.0         0.0  ...        0.0  \\\n",
       "2         0.0           0.0          0.0         0.0  ...        0.0   \n",
       "2         0.0           0.0          0.0         0.0  ...        0.0   \n",
       "2         0.0           0.0          0.0         0.0  ...        0.0   \n",
       "1         0.0           0.0          0.0         0.0  ...        0.0   \n",
       "..        ...           ...          ...         ...  ...        ...   \n",
       "2         0.0           0.0          0.0         0.0  ...        0.0   \n",
       "0         0.0           0.0          0.0         0.0  ...        0.0   \n",
       "2         0.0           0.0          0.0         0.0  ...        0.0   \n",
       "2         0.0           0.0          0.0         0.0  ...        0.0   \n",
       "1         0.0           0.0          0.0         0.0  ...        0.0   \n",
       "\n",
       "    événements  êtes  êtres  île  îles  œil  œuvre  œuvrer   εu  \n",
       "0          0.0   0.0    0.0  0.0   0.0  0.0    0.0     0.0  0.0  \n",
       "2          0.0   0.0    0.0  0.0   0.0  0.0    0.0     0.0  0.0  \n",
       "2          0.0   0.0    0.0  0.0   0.0  0.0    0.0     0.0  0.0  \n",
       "2          0.0   0.0    0.0  0.0   0.0  0.0    0.0     0.0  0.0  \n",
       "1          0.0   0.0    0.0  0.0   0.0  0.0    0.0     0.0  0.0  \n",
       "..         ...   ...    ...  ...   ...  ...    ...     ...  ...  \n",
       "2          0.0   0.0    0.0  0.0   0.0  0.0    0.0     0.0  0.0  \n",
       "0          0.0   0.0    0.0  0.0   0.0  0.0    0.0     0.0  0.0  \n",
       "2          0.0   0.0    0.0  0.0   0.0  0.0    0.0     0.0  0.0  \n",
       "2          0.0   0.0    0.0  0.0   0.0  0.0    0.0     0.0  0.0  \n",
       "1          0.0   0.0    0.0  0.0   0.0  0.0    0.0     0.0  0.0  \n",
       "\n",
       "[58110 rows x 15649 columns]"
      ]
     },
     "execution_count": 151,
     "metadata": {},
     "output_type": "execute_result"
    }
   ],
   "source": [
    "result = pd.DataFrame(\n",
    "    data=X_train, \n",
    "    index=y_train,\n",
    "    columns= features\n",
    ")\n",
    "\n",
    "result\n"
   ]
  },
  {
   "cell_type": "code",
   "execution_count": 152,
   "id": "734f79c7",
   "metadata": {},
   "outputs": [
    {
     "data": {
      "image/png": "[encoded data removed]",
      "text/plain": [
       "<Figure size 640x480 with 1 Axes>"
      ]
     },
     "metadata": {},
     "output_type": "display_data"
    }
   ],
   "source": [
    "import matplotlib.pyplot as plt\n",
    "%matplotlib inline\n",
    "\n",
    "plt.hist(y_train, align=\"right\", label=\"train\") \n",
    "plt.hist(y_test, align=\"left\", label=\"test\")\n",
    "plt.legend()\n",
    "plt.xlabel(\"Classe\")\n",
    "plt.ylabel(\"Nombre d'exemples\")\n",
    "plt.title(\"Répartition des classes\") \n",
    "plt.show()"
   ]
  },
  {
   "cell_type": "markdown",
   "id": "ab342424",
   "metadata": {},
   "source": [
    "# Classifieurs"
   ]
  },
  {
   "cell_type": "markdown",
   "id": "732d76dc",
   "metadata": {},
   "source": [
    "## SVM"
   ]
  },
  {
   "cell_type": "code",
   "execution_count": 153,
   "id": "c88ef816",
   "metadata": {},
   "outputs": [],
   "source": [
    "from sklearn.svm import LinearSVC"
   ]
  },
  {
   "cell_type": "code",
   "execution_count": 154,
   "id": "e780f7b1",
   "metadata": {},
   "outputs": [
    {
     "name": "stderr",
     "output_type": "stream",
     "text": [
      "/Library/Frameworks/Python.framework/Versions/3.11/lib/python3.11/site-packages/sklearn/svm/_classes.py:32: FutureWarning: The default value of `dual` will change from `True` to `'auto'` in 1.5. Set the value of `dual` explicitly to suppress the warning.\n",
      "  warnings.warn(\n"
     ]
    },
    {
     "data": {
      "text/html": [
       "<style>#sk-container-id-8 {color: black;}#sk-container-id-8 pre{padding: 0;}#sk-container-id-8 div.sk-toggleable {background-color: white;}#sk-container-id-8 label.sk-toggleable__label {cursor: pointer;display: block;width: 100%;margin-bottom: 0;padding: 0.3em;box-sizing: border-box;text-align: center;}#sk-container-id-8 label.sk-toggleable__label-arrow:before {content: \"▸\";float: left;margin-right: 0.25em;color: #696969;}#sk-container-id-8 label.sk-toggleable__label-arrow:hover:before {color: black;}#sk-container-id-8 div.sk-estimator:hover label.sk-toggleable__label-arrow:before {color: black;}#sk-container-id-8 div.sk-toggleable__content {max-height: 0;max-width: 0;overflow: hidden;text-align: left;background-color: #f0f8ff;}#sk-container-id-8 div.sk-toggleable__content pre {margin: 0.2em;color: black;border-radius: 0.25em;background-color: #f0f8ff;}#sk-container-id-8 input.sk-toggleable__control:checked~div.sk-toggleable__content {max-height: 200px;max-width: 100%;overflow: auto;}#sk-container-id-8 input.sk-toggleable__control:checked~label.sk-toggleable__label-arrow:before {content: \"▾\";}#sk-container-id-8 div.sk-estimator input.sk-toggleable__control:checked~label.sk-toggleable__label {background-color: #d4ebff;}#sk-container-id-8 div.sk-label input.sk-toggleable__control:checked~label.sk-toggleable__label {background-color: #d4ebff;}#sk-container-id-8 input.sk-hidden--visually {border: 0;clip: rect(1px 1px 1px 1px);clip: rect(1px, 1px, 1px, 1px);height: 1px;margin: -1px;overflow: hidden;padding: 0;position: absolute;width: 1px;}#sk-container-id-8 div.sk-estimator {font-family: monospace;background-color: #f0f8ff;border: 1px dotted black;border-radius: 0.25em;box-sizing: border-box;margin-bottom: 0.5em;}#sk-container-id-8 div.sk-estimator:hover {background-color: #d4ebff;}#sk-container-id-8 div.sk-parallel-item::after {content: \"\";width: 100%;border-bottom: 1px solid gray;flex-grow: 1;}#sk-container-id-8 div.sk-label:hover label.sk-toggleable__label {background-color: #d4ebff;}#sk-container-id-8 div.sk-serial::before {content: \"\";position: absolute;border-left: 1px solid gray;box-sizing: border-box;top: 0;bottom: 0;left: 50%;z-index: 0;}#sk-container-id-8 div.sk-serial {display: flex;flex-direction: column;align-items: center;background-color: white;padding-right: 0.2em;padding-left: 0.2em;position: relative;}#sk-container-id-8 div.sk-item {position: relative;z-index: 1;}#sk-container-id-8 div.sk-parallel {display: flex;align-items: stretch;justify-content: center;background-color: white;position: relative;}#sk-container-id-8 div.sk-item::before, #sk-container-id-8 div.sk-parallel-item::before {content: \"\";position: absolute;border-left: 1px solid gray;box-sizing: border-box;top: 0;bottom: 0;left: 50%;z-index: -1;}#sk-container-id-8 div.sk-parallel-item {display: flex;flex-direction: column;z-index: 1;position: relative;background-color: white;}#sk-container-id-8 div.sk-parallel-item:first-child::after {align-self: flex-end;width: 50%;}#sk-container-id-8 div.sk-parallel-item:last-child::after {align-self: flex-start;width: 50%;}#sk-container-id-8 div.sk-parallel-item:only-child::after {width: 0;}#sk-container-id-8 div.sk-dashed-wrapped {border: 1px dashed gray;margin: 0 0.4em 0.5em 0.4em;box-sizing: border-box;padding-bottom: 0.4em;background-color: white;}#sk-container-id-8 div.sk-label label {font-family: monospace;font-weight: bold;display: inline-block;line-height: 1.2em;}#sk-container-id-8 div.sk-label-container {text-align: center;}#sk-container-id-8 div.sk-container {/* jupyter's `normalize.less` sets `[hidden] { display: none; }` but bootstrap.min.css set `[hidden] { display: none !important; }` so we also need the `!important` here to be able to override the default hidden behavior on the sphinx rendered scikit-learn.org. See: https://github.com/scikit-learn/scikit-learn/issues/21755 */display: inline-block !important;position: relative;}#sk-container-id-8 div.sk-text-repr-fallback {display: none;}</style><div id=\"sk-container-id-8\" class=\"sk-top-container\"><div class=\"sk-text-repr-fallback\"><pre>LinearSVC()</pre><b>In a Jupyter environment, please rerun this cell to show the HTML representation or trust the notebook. <br />On GitHub, the HTML representation is unable to render, please try loading this page with nbviewer.org.</b></div><div class=\"sk-container\" hidden><div class=\"sk-item\"><div class=\"sk-estimator sk-toggleable\"><input class=\"sk-toggleable__control sk-hidden--visually\" id=\"sk-estimator-id-8\" type=\"checkbox\" checked><label for=\"sk-estimator-id-8\" class=\"sk-toggleable__label sk-toggleable__label-arrow\">LinearSVC</label><div class=\"sk-toggleable__content\"><pre>LinearSVC()</pre></div></div></div></div></div>"
      ],
      "text/plain": [
       "LinearSVC()"
      ]
     },
     "execution_count": 154,
     "metadata": {},
     "output_type": "execute_result"
    }
   ],
   "source": [
    "clf = LinearSVC()\n",
    "clf.fit(X_train, y_train)"
   ]
  },
  {
   "cell_type": "code",
   "execution_count": 155,
   "id": "166c7354",
   "metadata": {},
   "outputs": [
    {
     "data": {
      "text/plain": [
       "array([1, 2, 4, ..., 1, 0, 4])"
      ]
     },
     "execution_count": 155,
     "metadata": {},
     "output_type": "execute_result"
    }
   ],
   "source": [
    "clf.predict(X_test)"
   ]
  },
  {
   "cell_type": "code",
   "execution_count": 156,
   "id": "058d2f64",
   "metadata": {},
   "outputs": [
    {
     "data": {
      "text/plain": [
       "0.6467962117106655"
      ]
     },
     "execution_count": 156,
     "metadata": {},
     "output_type": "execute_result"
    }
   ],
   "source": [
    "clf.score(X_test, y_test)"
   ]
  },
  {
   "cell_type": "code",
   "execution_count": 157,
   "id": "8703821f",
   "metadata": {},
   "outputs": [
    {
     "name": "stdout",
     "output_type": "stream",
     "text": [
      "              precision    recall  f1-score   support\n",
      "\n",
      "           0       0.75      0.71      0.73      5379\n",
      "           1       0.60      0.61      0.61     10881\n",
      "           2       0.64      0.75      0.69     13713\n",
      "           3       0.68      0.48      0.56      4017\n",
      "           4       0.65      0.50      0.57      4755\n",
      "           5       0.00      0.00      0.00         6\n",
      "\n",
      "    accuracy                           0.65     38751\n",
      "   macro avg       0.55      0.51      0.53     38751\n",
      "weighted avg       0.65      0.65      0.64     38751\n",
      "\n"
     ]
    },
    {
     "name": "stderr",
     "output_type": "stream",
     "text": [
      "/Library/Frameworks/Python.framework/Versions/3.11/lib/python3.11/site-packages/sklearn/metrics/_classification.py:1469: UndefinedMetricWarning: Precision and F-score are ill-defined and being set to 0.0 in labels with no predicted samples. Use `zero_division` parameter to control this behavior.\n",
      "  _warn_prf(average, modifier, msg_start, len(result))\n",
      "/Library/Frameworks/Python.framework/Versions/3.11/lib/python3.11/site-packages/sklearn/metrics/_classification.py:1469: UndefinedMetricWarning: Precision and F-score are ill-defined and being set to 0.0 in labels with no predicted samples. Use `zero_division` parameter to control this behavior.\n",
      "  _warn_prf(average, modifier, msg_start, len(result))\n",
      "/Library/Frameworks/Python.framework/Versions/3.11/lib/python3.11/site-packages/sklearn/metrics/_classification.py:1469: UndefinedMetricWarning: Precision and F-score are ill-defined and being set to 0.0 in labels with no predicted samples. Use `zero_division` parameter to control this behavior.\n",
      "  _warn_prf(average, modifier, msg_start, len(result))\n"
     ]
    }
   ],
   "source": [
    "from sklearn.metrics import classification_report\n",
    "\n",
    "y_pred = clf.predict(X_test)\n",
    "print(classification_report(y_test, y_pred))"
   ]
  },
  {
   "cell_type": "markdown",
   "id": "7d005424",
   "metadata": {},
   "source": [
    "## Naive Bayes"
   ]
  },
  {
   "cell_type": "code",
   "execution_count": 158,
   "id": "6f23a042",
   "metadata": {},
   "outputs": [],
   "source": [
    "from sklearn.metrics import accuracy_score\n",
    "from sklearn.naive_bayes import MultinomialNB"
   ]
  },
  {
   "cell_type": "code",
   "execution_count": 159,
   "id": "3766644b",
   "metadata": {},
   "outputs": [
    {
     "data": {
      "text/html": [
       "<style>#sk-container-id-9 {color: black;}#sk-container-id-9 pre{padding: 0;}#sk-container-id-9 div.sk-toggleable {background-color: white;}#sk-container-id-9 label.sk-toggleable__label {cursor: pointer;display: block;width: 100%;margin-bottom: 0;padding: 0.3em;box-sizing: border-box;text-align: center;}#sk-container-id-9 label.sk-toggleable__label-arrow:before {content: \"▸\";float: left;margin-right: 0.25em;color: #696969;}#sk-container-id-9 label.sk-toggleable__label-arrow:hover:before {color: black;}#sk-container-id-9 div.sk-estimator:hover label.sk-toggleable__label-arrow:before {color: black;}#sk-container-id-9 div.sk-toggleable__content {max-height: 0;max-width: 0;overflow: hidden;text-align: left;background-color: #f0f8ff;}#sk-container-id-9 div.sk-toggleable__content pre {margin: 0.2em;color: black;border-radius: 0.25em;background-color: #f0f8ff;}#sk-container-id-9 input.sk-toggleable__control:checked~div.sk-toggleable__content {max-height: 200px;max-width: 100%;overflow: auto;}#sk-container-id-9 input.sk-toggleable__control:checked~label.sk-toggleable__label-arrow:before {content: \"▾\";}#sk-container-id-9 div.sk-estimator input.sk-toggleable__control:checked~label.sk-toggleable__label {background-color: #d4ebff;}#sk-container-id-9 div.sk-label input.sk-toggleable__control:checked~label.sk-toggleable__label {background-color: #d4ebff;}#sk-container-id-9 input.sk-hidden--visually {border: 0;clip: rect(1px 1px 1px 1px);clip: rect(1px, 1px, 1px, 1px);height: 1px;margin: -1px;overflow: hidden;padding: 0;position: absolute;width: 1px;}#sk-container-id-9 div.sk-estimator {font-family: monospace;background-color: #f0f8ff;border: 1px dotted black;border-radius: 0.25em;box-sizing: border-box;margin-bottom: 0.5em;}#sk-container-id-9 div.sk-estimator:hover {background-color: #d4ebff;}#sk-container-id-9 div.sk-parallel-item::after {content: \"\";width: 100%;border-bottom: 1px solid gray;flex-grow: 1;}#sk-container-id-9 div.sk-label:hover label.sk-toggleable__label {background-color: #d4ebff;}#sk-container-id-9 div.sk-serial::before {content: \"\";position: absolute;border-left: 1px solid gray;box-sizing: border-box;top: 0;bottom: 0;left: 50%;z-index: 0;}#sk-container-id-9 div.sk-serial {display: flex;flex-direction: column;align-items: center;background-color: white;padding-right: 0.2em;padding-left: 0.2em;position: relative;}#sk-container-id-9 div.sk-item {position: relative;z-index: 1;}#sk-container-id-9 div.sk-parallel {display: flex;align-items: stretch;justify-content: center;background-color: white;position: relative;}#sk-container-id-9 div.sk-item::before, #sk-container-id-9 div.sk-parallel-item::before {content: \"\";position: absolute;border-left: 1px solid gray;box-sizing: border-box;top: 0;bottom: 0;left: 50%;z-index: -1;}#sk-container-id-9 div.sk-parallel-item {display: flex;flex-direction: column;z-index: 1;position: relative;background-color: white;}#sk-container-id-9 div.sk-parallel-item:first-child::after {align-self: flex-end;width: 50%;}#sk-container-id-9 div.sk-parallel-item:last-child::after {align-self: flex-start;width: 50%;}#sk-container-id-9 div.sk-parallel-item:only-child::after {width: 0;}#sk-container-id-9 div.sk-dashed-wrapped {border: 1px dashed gray;margin: 0 0.4em 0.5em 0.4em;box-sizing: border-box;padding-bottom: 0.4em;background-color: white;}#sk-container-id-9 div.sk-label label {font-family: monospace;font-weight: bold;display: inline-block;line-height: 1.2em;}#sk-container-id-9 div.sk-label-container {text-align: center;}#sk-container-id-9 div.sk-container {/* jupyter's `normalize.less` sets `[hidden] { display: none; }` but bootstrap.min.css set `[hidden] { display: none !important; }` so we also need the `!important` here to be able to override the default hidden behavior on the sphinx rendered scikit-learn.org. See: https://github.com/scikit-learn/scikit-learn/issues/21755 */display: inline-block !important;position: relative;}#sk-container-id-9 div.sk-text-repr-fallback {display: none;}</style><div id=\"sk-container-id-9\" class=\"sk-top-container\"><div class=\"sk-text-repr-fallback\"><pre>MultinomialNB(alpha=0.1)</pre><b>In a Jupyter environment, please rerun this cell to show the HTML representation or trust the notebook. <br />On GitHub, the HTML representation is unable to render, please try loading this page with nbviewer.org.</b></div><div class=\"sk-container\" hidden><div class=\"sk-item\"><div class=\"sk-estimator sk-toggleable\"><input class=\"sk-toggleable__control sk-hidden--visually\" id=\"sk-estimator-id-9\" type=\"checkbox\" checked><label for=\"sk-estimator-id-9\" class=\"sk-toggleable__label sk-toggleable__label-arrow\">MultinomialNB</label><div class=\"sk-toggleable__content\"><pre>MultinomialNB(alpha=0.1)</pre></div></div></div></div></div>"
      ],
      "text/plain": [
       "MultinomialNB(alpha=0.1)"
      ]
     },
     "execution_count": 159,
     "metadata": {},
     "output_type": "execute_result"
    }
   ],
   "source": [
    "MNB = MultinomialNB(alpha=0.1)\n",
    "MNB.fit(X_train, y_train)"
   ]
  },
  {
   "cell_type": "code",
   "execution_count": 160,
   "id": "c5c06bff",
   "metadata": {},
   "outputs": [
    {
     "data": {
      "text/plain": [
       "array([1, 2, 4, ..., 2, 0, 2])"
      ]
     },
     "execution_count": 160,
     "metadata": {},
     "output_type": "execute_result"
    }
   ],
   "source": [
    "MNB.predict(X_test)"
   ]
  },
  {
   "cell_type": "code",
   "execution_count": 161,
   "id": "9d9f6536",
   "metadata": {},
   "outputs": [
    {
     "name": "stdout",
     "output_type": "stream",
     "text": [
      "              precision    recall  f1-score   support\n",
      "\n",
      "           0       0.70      0.43      0.53      5379\n",
      "           1       0.50      0.43      0.46     10881\n",
      "           2       0.46      0.85      0.60     13713\n",
      "           3       0.96      0.03      0.06      4017\n",
      "           4       0.63      0.10      0.17      4755\n",
      "           5       0.00      0.00      0.00         6\n",
      "\n",
      "    accuracy                           0.50     38751\n",
      "   macro avg       0.54      0.31      0.30     38751\n",
      "weighted avg       0.58      0.50      0.44     38751\n",
      "\n"
     ]
    },
    {
     "name": "stderr",
     "output_type": "stream",
     "text": [
      "/Library/Frameworks/Python.framework/Versions/3.11/lib/python3.11/site-packages/sklearn/metrics/_classification.py:1469: UndefinedMetricWarning: Precision and F-score are ill-defined and being set to 0.0 in labels with no predicted samples. Use `zero_division` parameter to control this behavior.\n",
      "  _warn_prf(average, modifier, msg_start, len(result))\n",
      "/Library/Frameworks/Python.framework/Versions/3.11/lib/python3.11/site-packages/sklearn/metrics/_classification.py:1469: UndefinedMetricWarning: Precision and F-score are ill-defined and being set to 0.0 in labels with no predicted samples. Use `zero_division` parameter to control this behavior.\n",
      "  _warn_prf(average, modifier, msg_start, len(result))\n",
      "/Library/Frameworks/Python.framework/Versions/3.11/lib/python3.11/site-packages/sklearn/metrics/_classification.py:1469: UndefinedMetricWarning: Precision and F-score are ill-defined and being set to 0.0 in labels with no predicted samples. Use `zero_division` parameter to control this behavior.\n",
      "  _warn_prf(average, modifier, msg_start, len(result))\n"
     ]
    }
   ],
   "source": [
    "y_pred = MNB.predict(X_test)\n",
    "print(classification_report(y_test, y_pred))"
   ]
  },
  {
   "cell_type": "markdown",
   "id": "a60d0749",
   "metadata": {},
   "source": [
    "## Random Forest"
   ]
  },
  {
   "cell_type": "code",
   "execution_count": null,
   "id": "6934d471",
   "metadata": {},
   "outputs": [],
   "source": [
    "from sklearn.ensemble import RandomForestClassifier"
   ]
  },
  {
   "cell_type": "code",
   "execution_count": null,
   "id": "24dd90b8",
   "metadata": {},
   "outputs": [],
   "source": [
    "from sklearn.manifold import TSNE\n",
    "\n",
    "tsne = TSNE(n_components=100, random_state=42)\n",
    "X_tsne = tsne.fit_transform(X_train)\n",
    "tsne.kl_divergence_"
   ]
  },
  {
   "cell_type": "code",
   "execution_count": null,
   "id": "e330758a",
   "metadata": {},
   "outputs": [
    {
     "data": {
      "text/html": [
       "<style>#sk-container-id-6 {color: black;}#sk-container-id-6 pre{padding: 0;}#sk-container-id-6 div.sk-toggleable {background-color: white;}#sk-container-id-6 label.sk-toggleable__label {cursor: pointer;display: block;width: 100%;margin-bottom: 0;padding: 0.3em;box-sizing: border-box;text-align: center;}#sk-container-id-6 label.sk-toggleable__label-arrow:before {content: \"▸\";float: left;margin-right: 0.25em;color: #696969;}#sk-container-id-6 label.sk-toggleable__label-arrow:hover:before {color: black;}#sk-container-id-6 div.sk-estimator:hover label.sk-toggleable__label-arrow:before {color: black;}#sk-container-id-6 div.sk-toggleable__content {max-height: 0;max-width: 0;overflow: hidden;text-align: left;background-color: #f0f8ff;}#sk-container-id-6 div.sk-toggleable__content pre {margin: 0.2em;color: black;border-radius: 0.25em;background-color: #f0f8ff;}#sk-container-id-6 input.sk-toggleable__control:checked~div.sk-toggleable__content {max-height: 200px;max-width: 100%;overflow: auto;}#sk-container-id-6 input.sk-toggleable__control:checked~label.sk-toggleable__label-arrow:before {content: \"▾\";}#sk-container-id-6 div.sk-estimator input.sk-toggleable__control:checked~label.sk-toggleable__label {background-color: #d4ebff;}#sk-container-id-6 div.sk-label input.sk-toggleable__control:checked~label.sk-toggleable__label {background-color: #d4ebff;}#sk-container-id-6 input.sk-hidden--visually {border: 0;clip: rect(1px 1px 1px 1px);clip: rect(1px, 1px, 1px, 1px);height: 1px;margin: -1px;overflow: hidden;padding: 0;position: absolute;width: 1px;}#sk-container-id-6 div.sk-estimator {font-family: monospace;background-color: #f0f8ff;border: 1px dotted black;border-radius: 0.25em;box-sizing: border-box;margin-bottom: 0.5em;}#sk-container-id-6 div.sk-estimator:hover {background-color: #d4ebff;}#sk-container-id-6 div.sk-parallel-item::after {content: \"\";width: 100%;border-bottom: 1px solid gray;flex-grow: 1;}#sk-container-id-6 div.sk-label:hover label.sk-toggleable__label {background-color: #d4ebff;}#sk-container-id-6 div.sk-serial::before {content: \"\";position: absolute;border-left: 1px solid gray;box-sizing: border-box;top: 0;bottom: 0;left: 50%;z-index: 0;}#sk-container-id-6 div.sk-serial {display: flex;flex-direction: column;align-items: center;background-color: white;padding-right: 0.2em;padding-left: 0.2em;position: relative;}#sk-container-id-6 div.sk-item {position: relative;z-index: 1;}#sk-container-id-6 div.sk-parallel {display: flex;align-items: stretch;justify-content: center;background-color: white;position: relative;}#sk-container-id-6 div.sk-item::before, #sk-container-id-6 div.sk-parallel-item::before {content: \"\";position: absolute;border-left: 1px solid gray;box-sizing: border-box;top: 0;bottom: 0;left: 50%;z-index: -1;}#sk-container-id-6 div.sk-parallel-item {display: flex;flex-direction: column;z-index: 1;position: relative;background-color: white;}#sk-container-id-6 div.sk-parallel-item:first-child::after {align-self: flex-end;width: 50%;}#sk-container-id-6 div.sk-parallel-item:last-child::after {align-self: flex-start;width: 50%;}#sk-container-id-6 div.sk-parallel-item:only-child::after {width: 0;}#sk-container-id-6 div.sk-dashed-wrapped {border: 1px dashed gray;margin: 0 0.4em 0.5em 0.4em;box-sizing: border-box;padding-bottom: 0.4em;background-color: white;}#sk-container-id-6 div.sk-label label {font-family: monospace;font-weight: bold;display: inline-block;line-height: 1.2em;}#sk-container-id-6 div.sk-label-container {text-align: center;}#sk-container-id-6 div.sk-container {/* jupyter's `normalize.less` sets `[hidden] { display: none; }` but bootstrap.min.css set `[hidden] { display: none !important; }` so we also need the `!important` here to be able to override the default hidden behavior on the sphinx rendered scikit-learn.org. See: https://github.com/scikit-learn/scikit-learn/issues/21755 */display: inline-block !important;position: relative;}#sk-container-id-6 div.sk-text-repr-fallback {display: none;}</style><div id=\"sk-container-id-6\" class=\"sk-top-container\"><div class=\"sk-text-repr-fallback\"><pre>RandomForestClassifier(max_depth=2, random_state=0)</pre><b>In a Jupyter environment, please rerun this cell to show the HTML representation or trust the notebook. <br />On GitHub, the HTML representation is unable to render, please try loading this page with nbviewer.org.</b></div><div class=\"sk-container\" hidden><div class=\"sk-item\"><div class=\"sk-estimator sk-toggleable\"><input class=\"sk-toggleable__control sk-hidden--visually\" id=\"sk-estimator-id-6\" type=\"checkbox\" checked><label for=\"sk-estimator-id-6\" class=\"sk-toggleable__label sk-toggleable__label-arrow\">RandomForestClassifier</label><div class=\"sk-toggleable__content\"><pre>RandomForestClassifier(max_depth=2, random_state=0)</pre></div></div></div></div></div>"
      ],
      "text/plain": [
       "RandomForestClassifier(max_depth=2, random_state=0)"
      ]
     },
     "execution_count": 81,
     "metadata": {},
     "output_type": "execute_result"
    }
   ],
   "source": [
    "rfc =  RandomForestClassifier(max_depth=2, random_state=0)\n",
    "rfc.fit(X_train,y_train)"
   ]
  },
  {
   "cell_type": "code",
   "execution_count": null,
   "id": "5463b3b9",
   "metadata": {},
   "outputs": [
    {
     "data": {
      "text/plain": [
       "array([2, 2, 2, ..., 2, 2, 2])"
      ]
     },
     "execution_count": 82,
     "metadata": {},
     "output_type": "execute_result"
    }
   ],
   "source": [
    "rfc.predict(X_test)"
   ]
  },
  {
   "cell_type": "code",
   "execution_count": null,
   "id": "6fac8696",
   "metadata": {},
   "outputs": [
    {
     "data": {
      "text/plain": [
       "0.3538747387164202"
      ]
     },
     "execution_count": 83,
     "metadata": {},
     "output_type": "execute_result"
    }
   ],
   "source": [
    "rfc.score(X_test, y_test)"
   ]
  },
  {
   "cell_type": "code",
   "execution_count": null,
   "id": "40293e0f",
   "metadata": {},
   "outputs": [
    {
     "name": "stdout",
     "output_type": "stream",
     "text": [
      "              precision    recall  f1-score   support\n",
      "\n",
      "           0       0.00      0.00      0.00      5379\n",
      "           1       0.00      0.00      0.00     10881\n",
      "           2       0.35      1.00      0.52     13713\n",
      "           3       0.00      0.00      0.00      4017\n",
      "           4       0.00      0.00      0.00      4755\n",
      "           5       0.00      0.00      0.00         6\n",
      "\n",
      "    accuracy                           0.35     38751\n",
      "   macro avg       0.06      0.17      0.09     38751\n",
      "weighted avg       0.13      0.35      0.18     38751\n",
      "\n"
     ]
    },
    {
     "name": "stderr",
     "output_type": "stream",
     "text": [
      "/Library/Frameworks/Python.framework/Versions/3.11/lib/python3.11/site-packages/sklearn/metrics/_classification.py:1469: UndefinedMetricWarning: Precision and F-score are ill-defined and being set to 0.0 in labels with no predicted samples. Use `zero_division` parameter to control this behavior.\n",
      "  _warn_prf(average, modifier, msg_start, len(result))\n",
      "/Library/Frameworks/Python.framework/Versions/3.11/lib/python3.11/site-packages/sklearn/metrics/_classification.py:1469: UndefinedMetricWarning: Precision and F-score are ill-defined and being set to 0.0 in labels with no predicted samples. Use `zero_division` parameter to control this behavior.\n",
      "  _warn_prf(average, modifier, msg_start, len(result))\n",
      "/Library/Frameworks/Python.framework/Versions/3.11/lib/python3.11/site-packages/sklearn/metrics/_classification.py:1469: UndefinedMetricWarning: Precision and F-score are ill-defined and being set to 0.0 in labels with no predicted samples. Use `zero_division` parameter to control this behavior.\n",
      "  _warn_prf(average, modifier, msg_start, len(result))\n"
     ]
    }
   ],
   "source": [
    "y_pred = rfc.predict(X_test)\n",
    "print(classification_report(y_test, y_pred))"
   ]
  }
 ],
 "metadata": {
  "kernelspec": {
   "display_name": "Python 3 (ipykernel)",
   "language": "python",
   "name": "python3"
  },
  "language_info": {
   "codemirror_mode": {
    "name": "ipython",
    "version": 3
   },
   "file_extension": ".py",
   "mimetype": "text/x-python",
   "name": "python",
   "nbconvert_exporter": "python",
   "pygments_lexer": "ipython3",
   "version": "3.11.2"
  }
 },
 "nbformat": 4,
 "nbformat_minor": 5
}
